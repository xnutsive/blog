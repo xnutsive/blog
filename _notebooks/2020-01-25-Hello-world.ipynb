{
 "cells": [
  {
   "cell_type": "markdown",
   "metadata": {},
   "source": [
    "# Exploratory programming meets blogging\n",
    "\n",
    "> Write and publish blog posts others can reproduce in Google Colab!\n",
    "\n",
    "- toc: false\n",
    "- badges: true\n",
    "- categories: [nbdev, fastpages, jupyter]\n",
    "- description: Write and publish blog posts others can reproduce in Google Colab!\n",
    "- author: Nate Gadzhibalaev"
   ]
  },
  {
   "cell_type": "markdown",
   "metadata": {},
   "source": [
    "This is my first article in several years, and it's about software engineering and not marketing, so I'm a bit overenthusiastic. Here's why!\n",
    "- I wrote this in a Jupyter Notebook that you can access on Github!\n",
    "- You can also run this article in Colab in one click. Not that there's much to run yet.\n",
    "- The blog also has a CI based on Github Actions that verifies that each article actually runs correctly when I commit it. "
   ]
  },
  {
   "cell_type": "markdown",
   "metadata": {},
   "source": [
    "> Note: This has been written a few weeks ago, and after I wrote the initial article, [@hamelhusain](https://twitter.com/hamelhusain) added a bunch of new features to the platform. I'll keep the initial article in place, and highlight what new features Hamel implemented."
   ]
  },
  {
   "cell_type": "markdown",
   "metadata": {},
   "source": [
    "[`fast_template`](https://github.com/fastai/fast_template) is a minimal blogging platform built on top of Github that folks can use to write and publish posts without any local dev environment whatsoever. Then, [@hamelhusain](https://twitter.com/hamelhusain) added Jupyter Notebooks support before I got to do it, I've implemented a few additions, and Jeremy Howard suggested we move all the advanced stuff from `fast_template` to a new repo — that's how [`fastpages`](https://github.com/fastai/fastpages) got to be.\n",
    "\n"
   ]
  },
  {
   "cell_type": "markdown",
   "metadata": {},
   "source": [
    "There are several great examples of fast_template blogs out there already — just look at this — [GPT 2 Annotated](https://amaarora.github.io/2020/02/18/annotatedGPT2.html). One thing that is still in early development, and not everyone is onboard, is that *each fastpages-based blog is essentially a nbdev project*, meaning you can write and build code into a python library, share code between articles, publish it on pypi if you'd want to."
   ]
  },
  {
   "cell_type": "markdown",
   "metadata": {},
   "source": [
    "### Starting a blog with `fast_template`"
   ]
  },
  {
   "cell_type": "markdown",
   "metadata": {},
   "source": [
    "> Note: **Upd: fast_template is the most basic blogging platform imaginable, all the advanced features migrated to `fastpages` instead.**"
   ]
  },
  {
   "cell_type": "markdown",
   "metadata": {},
   "source": [
    "So, fast_template is basically a Jekyll blog with a few handy things on top of it: \n",
    "- It's put together around an idea of hosting it on Github Pages, so you don't have to think about picking a VM, configuring your deployment, monitoring. [Essentially this removes the tech entry barrier (if there was one) to blogging with Jekyll.](https://www.fast.ai/2020/01/20/blog_overview/)\n",
    "- It simplifies working with images, so you get decent pics size and DPI out of the box.\n",
    "- As of right now, it supports using MS Word (sic), or Jupyter Notebooks as editor environment, and then exporting your posts into Jekyll posts _automatically_. You just push stuff to Github, and a Github Action takes care of the rest.\n"
   ]
  },
  {
   "cell_type": "markdown",
   "metadata": {},
   "source": [
    "### How does jupyter to blog conversion work?\n",
    "\n",
    "Internally, it uses `nbdev.export2html()` to preprocess and then export notebooks into html files, stores them in `_posts`, and then Jekyll picks them up from there. This whole thing is wrapped in a rather scary github action that grabs your repository, generates posts, processes them with Jekyll, and pushes everything back to your repo, to `gh-pages` branch. If you would want to use, say, Netlify instead, you'd just edit this last part where it pushes the code to github, and hit a Netlify hook instead. "
   ]
  },
  {
   "cell_type": "markdown",
   "metadata": {},
   "source": [
    "### Running the blog locally\n",
    "\n",
    "If [this PR gets merged](https://github.com/fastai/fastpages/pull/106), you'll just `docker-compose up`. This will spin up Jupyter Notebook, a watcher that processes your notebooks to posts, and a Jekyll server. "
   ]
  },
  {
   "cell_type": "markdown",
   "metadata": {},
   "source": [
    "### Adding links to Github and Google Colab"
   ]
  },
  {
   "cell_type": "markdown",
   "metadata": {},
   "source": [
    "> Note: There's even easier way to do this now with a front matter key `badges:true` that adds badges to the article heading.  "
   ]
  },
  {
   "cell_type": "markdown",
   "metadata": {},
   "source": [
    "See those View on Github and Run on Colab links? If you click them — you'll land on the notebook file on Github in `xnutsive/blog`, and if you click Google Colab link — it'll open Colab and load this notebook into it. Neat, right? \n",
    "\n",
    "To do that, you'll need to edit your post layout. `post.nb_path` has the path to the notebook, i.e. `_notebooks/YYYY-MM-DD-Title.ipynb`. With a few more settings like `site.github_user` and `site.github_repo`, you can [put the links together.](https://github.com/xnutsive/blog/blob/master/_layouts/post.html#L17)"
   ]
  },
  {
   "cell_type": "markdown",
   "metadata": {},
   "source": [
    "### Making sure your posts are clear and run correctly"
   ]
  },
  {
   "cell_type": "markdown",
   "metadata": {},
   "source": [
    "<blockquote class=\"twitter-tweet\"><p lang=\"en\" dir=\"ltr\">Me explaining the execution order of my Jupyter notebook cells. <a href=\"https://t.co/dwWt5NzmUL\">pic.twitter.com/dwWt5NzmUL</a></p>&mdash; Chris Albon (@chrisalbon) <a href=\"https://twitter.com/chrisalbon/status/1221977821310083075?ref_src=twsrc%5Etfw\">January 28, 2020</a></blockquote> <script async src=\"https://platform.twitter.com/widgets.js\" charset=\"utf-8\"></script>"
   ]
  },
  {
   "cell_type": "markdown",
   "metadata": {},
   "source": [
    "I did two more things to make sure my posts / notebooks always run correctly, and are clean and readable. In fact, `nbdev` does both if you ask nicely: \n",
    "\n",
    "- You can use `nbdev_clean_nbs` to clean up metadata and cell execution orders. \n",
    "- You can `nbdev_install_git_hooks` to clean the notebooks automatically for you every time you check out or commit any changes to them!\n",
    "- You can use `nbdev_test_nbs` to run all the notebooks. If any cell errors, it'll scream at you with an error message.\n",
    "\n",
    "Nbdev git hooks have an added bonus of resolving merge conflicts in notebooks nicely, so if you see anything weird with my posts — just create a pull-request ;) \n",
    "\n",
    "I've added `nbdev_test_nbs` to the github action that processes my post — that way I'll know if anything's broken.\n",
    "\n",
    "**Note: if you do anything that requires GPU compute in your posts, `nbdev_test_nbs` will likely die in the github action, so until come back in a week for a workaround.**"
   ]
  },
  {
   "cell_type": "markdown",
   "metadata": {},
   "source": [
    "### Does the code part actually work?"
   ]
  },
  {
   "cell_type": "markdown",
   "metadata": {},
   "source": [
    "These are just to verify that code highlighting and pyplot charts will still look alright."
   ]
  },
  {
   "cell_type": "code",
   "execution_count": 4,
   "metadata": {},
   "outputs": [],
   "source": [
    "#default_exp hello_world"
   ]
  },
  {
   "cell_type": "code",
   "execution_count": 5,
   "metadata": {},
   "outputs": [
    {
     "name": "stdout",
     "output_type": "stream",
     "text": [
      "Hello, Dear Reader!\n"
     ]
    }
   ],
   "source": [
    "# export\n",
    "# Let's write some code and see if it runs. \n",
    "\n",
    "def say_hello(name: str) -> None:\n",
    "    print(f\"Hello, {name}!\")\n",
    "\n",
    "say_hello(\"Dear Reader\")"
   ]
  },
  {
   "cell_type": "markdown",
   "metadata": {},
   "source": [
    "Okay, what about plots?"
   ]
  },
  {
   "cell_type": "code",
   "execution_count": 3,
   "metadata": {},
   "outputs": [
    {
     "name": "stdout",
     "output_type": "stream",
     "text": [
      "Requirement already satisfied: matplotlib in /usr/local/lib/python3.7/site-packages (3.1.3)\n",
      "Requirement already satisfied: pandas in /usr/local/lib/python3.7/site-packages (1.0.1)\n",
      "Requirement already satisfied: pyparsing!=2.0.4,!=2.1.2,!=2.1.6,>=2.0.1 in /usr/local/lib/python3.7/site-packages (from matplotlib) (2.4.6)\n",
      "Requirement already satisfied: numpy>=1.11 in /usr/local/lib/python3.7/site-packages (from matplotlib) (1.18.1)\n",
      "Requirement already satisfied: kiwisolver>=1.0.1 in /usr/local/lib/python3.7/site-packages (from matplotlib) (1.1.0)\n",
      "Requirement already satisfied: python-dateutil>=2.1 in /usr/local/lib/python3.7/site-packages (from matplotlib) (2.8.1)\n",
      "Requirement already satisfied: cycler>=0.10 in /usr/local/lib/python3.7/site-packages (from matplotlib) (0.10.0)\n",
      "Requirement already satisfied: pytz>=2017.2 in /usr/local/lib/python3.7/site-packages (from pandas) (2019.3)\n",
      "Requirement already satisfied: setuptools in /usr/local/lib/python3.7/site-packages (from kiwisolver>=1.0.1->matplotlib) (41.2.0)\n",
      "Requirement already satisfied: six>=1.5 in /usr/local/lib/python3.7/site-packages (from python-dateutil>=2.1->matplotlib) (1.14.0)\n"
     ]
    }
   ],
   "source": [
    "#hide\n",
    "!pip install matplotlib pandas"
   ]
  },
  {
   "cell_type": "code",
   "execution_count": null,
   "metadata": {},
   "outputs": [],
   "source": [
    "%matplotlib inline"
   ]
  },
  {
   "cell_type": "code",
   "execution_count": null,
   "metadata": {},
   "outputs": [
    {
     "data": {
      "image/png": "[encoded data removed]",
      "text/plain": [
       "<Figure size 432x288 with 1 Axes>"
      ]
     },
     "metadata": {
      "needs_background": "light"
     },
     "output_type": "display_data"
    }
   ],
   "source": [
    "import matplotlib.pyplot as plt\n",
    "import pandas as pd\n",
    "import numpy as np\n",
    "\n",
    "x = np.linspace(-10, 9, 20)\n",
    "\n",
    "y = x ** 3\n",
    "\n",
    "plt.plot(x, y, 'b')\n",
    "plt.xlabel('X axis')\n",
    "plt.ylabel('Y axis')\n",
    "plt.title('Cube Function')\n",
    "plt.show()"
   ]
  },
  {
   "cell_type": "markdown",
   "metadata": {},
   "source": [
    "### Other features"
   ]
  },
  {
   "cell_type": "markdown",
   "metadata": {},
   "source": [
    "Fastpages already supports comments, tags, and the official introduction post from Hamel and Jeremy are coming soon. My aim is to use the blog as a way to learn things and publish my learnings in one pass, and see where this goes. "
   ]
  },
  {
   "cell_type": "code",
   "execution_count": null,
   "metadata": {},
   "outputs": [],
   "source": []
  }
 ],
 "metadata": {
  "kernelspec": {
   "display_name": "Python 3",
   "language": "python",
   "name": "python3"
  },
  "language_info": {
   "codemirror_mode": {
    "name": "ipython",
    "version": 3
   },
   "file_extension": ".py",
   "mimetype": "text/x-python",
   "name": "python",
   "nbconvert_exporter": "python",
   "pygments_lexer": "ipython3",
   "version": "3.7.6"
  }
 },
 "nbformat": 4,
 "nbformat_minor": 4
}
